{
 "cells": [
  {
   "cell_type": "markdown",
   "id": "988f91d3",
   "metadata": {},
   "source": [
    "## Importing Libraries "
   ]
  },
  {
   "cell_type": "code",
   "execution_count": 35,
   "id": "32e52ad3",
   "metadata": {},
   "outputs": [],
   "source": [
    "import numpy as np\n",
    "import matplotlib.pyplot as plt\n",
    "import pandas as pd\n",
    "import seaborn as sns"
   ]
  },
  {
   "cell_type": "markdown",
   "id": "21f38c2b",
   "metadata": {},
   "source": [
    "## Importing Dataset"
   ]
  },
  {
   "cell_type": "code",
   "execution_count": 37,
   "id": "18032ea9",
   "metadata": {},
   "outputs": [],
   "source": [
    "dataset=pd.read_csv(\"House_Rent_Dataset.csv\")\n",
    "#Dropping Date column\n",
    "dataset=dataset.drop(['Posted On','Area Locality','Tenant Preferred','Area Type','Point of Contact'], axis=1)\n"
   ]
  },
  {
   "cell_type": "markdown",
   "id": "7af829c7",
   "metadata": {},
   "source": [
    "## Visualisation of Data"
   ]
  },
  {
   "cell_type": "code",
   "execution_count": 38,
   "id": "5ce1906c",
   "metadata": {},
   "outputs": [
    {
     "data": {
      "text/html": [
       "<div>\n",
       "<style scoped>\n",
       "    .dataframe tbody tr th:only-of-type {\n",
       "        vertical-align: middle;\n",
       "    }\n",
       "\n",
       "    .dataframe tbody tr th {\n",
       "        vertical-align: top;\n",
       "    }\n",
       "\n",
       "    .dataframe thead th {\n",
       "        text-align: right;\n",
       "    }\n",
       "</style>\n",
       "<table border=\"1\" class=\"dataframe\">\n",
       "  <thead>\n",
       "    <tr style=\"text-align: right;\">\n",
       "      <th></th>\n",
       "      <th>BHK</th>\n",
       "      <th>Size</th>\n",
       "      <th>Floor</th>\n",
       "      <th>City</th>\n",
       "      <th>Furnishing Status</th>\n",
       "      <th>Bathroom</th>\n",
       "      <th>Rent</th>\n",
       "    </tr>\n",
       "  </thead>\n",
       "  <tbody>\n",
       "    <tr>\n",
       "      <th>0</th>\n",
       "      <td>2</td>\n",
       "      <td>1100</td>\n",
       "      <td>Ground out of 2</td>\n",
       "      <td>Kolkata</td>\n",
       "      <td>Unfurnished</td>\n",
       "      <td>2</td>\n",
       "      <td>10000</td>\n",
       "    </tr>\n",
       "    <tr>\n",
       "      <th>1</th>\n",
       "      <td>2</td>\n",
       "      <td>800</td>\n",
       "      <td>1 out of 3</td>\n",
       "      <td>Kolkata</td>\n",
       "      <td>Semi-Furnished</td>\n",
       "      <td>1</td>\n",
       "      <td>20000</td>\n",
       "    </tr>\n",
       "    <tr>\n",
       "      <th>2</th>\n",
       "      <td>2</td>\n",
       "      <td>1000</td>\n",
       "      <td>1 out of 3</td>\n",
       "      <td>Kolkata</td>\n",
       "      <td>Semi-Furnished</td>\n",
       "      <td>1</td>\n",
       "      <td>17000</td>\n",
       "    </tr>\n",
       "    <tr>\n",
       "      <th>3</th>\n",
       "      <td>2</td>\n",
       "      <td>800</td>\n",
       "      <td>1 out of 2</td>\n",
       "      <td>Kolkata</td>\n",
       "      <td>Unfurnished</td>\n",
       "      <td>1</td>\n",
       "      <td>10000</td>\n",
       "    </tr>\n",
       "    <tr>\n",
       "      <th>4</th>\n",
       "      <td>2</td>\n",
       "      <td>850</td>\n",
       "      <td>1 out of 2</td>\n",
       "      <td>Kolkata</td>\n",
       "      <td>Unfurnished</td>\n",
       "      <td>1</td>\n",
       "      <td>7500</td>\n",
       "    </tr>\n",
       "  </tbody>\n",
       "</table>\n",
       "</div>"
      ],
      "text/plain": [
       "   BHK  Size            Floor     City Furnishing Status  Bathroom   Rent\n",
       "0    2  1100  Ground out of 2  Kolkata       Unfurnished         2  10000\n",
       "1    2   800       1 out of 3  Kolkata    Semi-Furnished         1  20000\n",
       "2    2  1000       1 out of 3  Kolkata    Semi-Furnished         1  17000\n",
       "3    2   800       1 out of 2  Kolkata       Unfurnished         1  10000\n",
       "4    2   850       1 out of 2  Kolkata       Unfurnished         1   7500"
      ]
     },
     "execution_count": 38,
     "metadata": {},
     "output_type": "execute_result"
    }
   ],
   "source": [
    "dataset.head()\n"
   ]
  },
  {
   "cell_type": "code",
   "execution_count": 39,
   "id": "8e6f71f5",
   "metadata": {},
   "outputs": [],
   "source": [
    "## Variable selection\n",
    "# Remove date as all records are of 2022\n",
    "# From FLoor data make Max Floor and Min Floor\n",
    "# Check no of categories in Area Type, City, Furnishing Status, Tenant Prefered, Point of Contact\n",
    "# Remove Floor, Area Type, Area Locality, City, Furnishing Status, Tenant Prefered, Point of Contact"
   ]
  },
  {
   "cell_type": "code",
   "execution_count": 40,
   "id": "35babf2a",
   "metadata": {},
   "outputs": [
    {
     "name": "stdout",
     "output_type": "stream",
     "text": [
      "Categorical columns are :  ['Floor', 'City', 'Furnishing Status']\n"
     ]
    }
   ],
   "source": [
    "#Checking the Categorical Columns\n",
    "print('Categorical columns are : ',dataset.select_dtypes(include=['object']).columns.tolist())"
   ]
  },
  {
   "cell_type": "markdown",
   "id": "17d761a0",
   "metadata": {},
   "source": [
    "## Checking the Dependance of Rent on the Classes of Each Categorical Values"
   ]
  },
  {
   "cell_type": "code",
   "execution_count": 41,
   "id": "069b194b",
   "metadata": {},
   "outputs": [
    {
     "data": {
      "text/plain": [
       "<AxesSubplot:xlabel='City', ylabel='Rent'>"
      ]
     },
     "execution_count": 41,
     "metadata": {},
     "output_type": "execute_result"
    },
    {
     "data": {
      "image/png": "[encoded data removed]",
      "text/plain": [
       "<Figure size 432x288 with 1 Axes>"
      ]
     },
     "metadata": {
      "needs_background": "light"
     },
     "output_type": "display_data"
    }
   ],
   "source": [
    "# Trend of Rent from city\n",
    "sns.barplot(x = 'City',y = 'Rent',data = dataset)"
   ]
  },
  {
   "cell_type": "code",
   "execution_count": 42,
   "id": "10d70363",
   "metadata": {
    "scrolled": false
   },
   "outputs": [
    {
     "ename": "ValueError",
     "evalue": "Could not interpret input 'Area Type'",
     "output_type": "error",
     "traceback": [
      "\u001b[1;31m---------------------------------------------------------------------------\u001b[0m",
      "\u001b[1;31mValueError\u001b[0m                                Traceback (most recent call last)",
      "\u001b[1;32mC:\\Users\\ARNABS~1\\AppData\\Local\\Temp/ipykernel_4288/1404531020.py\u001b[0m in \u001b[0;36m<module>\u001b[1;34m\u001b[0m\n\u001b[0;32m      1\u001b[0m \u001b[1;31m#Trend of Rent from Area Type\u001b[0m\u001b[1;33m\u001b[0m\u001b[1;33m\u001b[0m\u001b[0m\n\u001b[1;32m----> 2\u001b[1;33m \u001b[0msns\u001b[0m\u001b[1;33m.\u001b[0m\u001b[0mbarplot\u001b[0m\u001b[1;33m(\u001b[0m\u001b[0mx\u001b[0m \u001b[1;33m=\u001b[0m \u001b[1;34m'Area Type'\u001b[0m\u001b[1;33m,\u001b[0m\u001b[0my\u001b[0m \u001b[1;33m=\u001b[0m \u001b[1;34m'Rent'\u001b[0m\u001b[1;33m,\u001b[0m\u001b[0mdata\u001b[0m \u001b[1;33m=\u001b[0m \u001b[0mdataset\u001b[0m\u001b[1;33m)\u001b[0m\u001b[1;33m\u001b[0m\u001b[1;33m\u001b[0m\u001b[0m\n\u001b[0m",
      "\u001b[1;32m~\\anaconda3\\lib\\site-packages\\seaborn\\_decorators.py\u001b[0m in \u001b[0;36minner_f\u001b[1;34m(*args, **kwargs)\u001b[0m\n\u001b[0;32m     44\u001b[0m             )\n\u001b[0;32m     45\u001b[0m         \u001b[0mkwargs\u001b[0m\u001b[1;33m.\u001b[0m\u001b[0mupdate\u001b[0m\u001b[1;33m(\u001b[0m\u001b[1;33m{\u001b[0m\u001b[0mk\u001b[0m\u001b[1;33m:\u001b[0m \u001b[0marg\u001b[0m \u001b[1;32mfor\u001b[0m \u001b[0mk\u001b[0m\u001b[1;33m,\u001b[0m \u001b[0marg\u001b[0m \u001b[1;32min\u001b[0m \u001b[0mzip\u001b[0m\u001b[1;33m(\u001b[0m\u001b[0msig\u001b[0m\u001b[1;33m.\u001b[0m\u001b[0mparameters\u001b[0m\u001b[1;33m,\u001b[0m \u001b[0margs\u001b[0m\u001b[1;33m)\u001b[0m\u001b[1;33m}\u001b[0m\u001b[1;33m)\u001b[0m\u001b[1;33m\u001b[0m\u001b[1;33m\u001b[0m\u001b[0m\n\u001b[1;32m---> 46\u001b[1;33m         \u001b[1;32mreturn\u001b[0m \u001b[0mf\u001b[0m\u001b[1;33m(\u001b[0m\u001b[1;33m**\u001b[0m\u001b[0mkwargs\u001b[0m\u001b[1;33m)\u001b[0m\u001b[1;33m\u001b[0m\u001b[1;33m\u001b[0m\u001b[0m\n\u001b[0m\u001b[0;32m     47\u001b[0m     \u001b[1;32mreturn\u001b[0m \u001b[0minner_f\u001b[0m\u001b[1;33m\u001b[0m\u001b[1;33m\u001b[0m\u001b[0m\n\u001b[0;32m     48\u001b[0m \u001b[1;33m\u001b[0m\u001b[0m\n",
      "\u001b[1;32m~\\anaconda3\\lib\\site-packages\\seaborn\\categorical.py\u001b[0m in \u001b[0;36mbarplot\u001b[1;34m(x, y, hue, data, order, hue_order, estimator, ci, n_boot, units, seed, orient, color, palette, saturation, errcolor, errwidth, capsize, dodge, ax, **kwargs)\u001b[0m\n\u001b[0;32m   3180\u001b[0m ):\n\u001b[0;32m   3181\u001b[0m \u001b[1;33m\u001b[0m\u001b[0m\n\u001b[1;32m-> 3182\u001b[1;33m     plotter = _BarPlotter(x, y, hue, data, order, hue_order,\n\u001b[0m\u001b[0;32m   3183\u001b[0m                           \u001b[0mestimator\u001b[0m\u001b[1;33m,\u001b[0m \u001b[0mci\u001b[0m\u001b[1;33m,\u001b[0m \u001b[0mn_boot\u001b[0m\u001b[1;33m,\u001b[0m \u001b[0munits\u001b[0m\u001b[1;33m,\u001b[0m \u001b[0mseed\u001b[0m\u001b[1;33m,\u001b[0m\u001b[1;33m\u001b[0m\u001b[1;33m\u001b[0m\u001b[0m\n\u001b[0;32m   3184\u001b[0m                           \u001b[0morient\u001b[0m\u001b[1;33m,\u001b[0m \u001b[0mcolor\u001b[0m\u001b[1;33m,\u001b[0m \u001b[0mpalette\u001b[0m\u001b[1;33m,\u001b[0m \u001b[0msaturation\u001b[0m\u001b[1;33m,\u001b[0m\u001b[1;33m\u001b[0m\u001b[1;33m\u001b[0m\u001b[0m\n",
      "\u001b[1;32m~\\anaconda3\\lib\\site-packages\\seaborn\\categorical.py\u001b[0m in \u001b[0;36m__init__\u001b[1;34m(self, x, y, hue, data, order, hue_order, estimator, ci, n_boot, units, seed, orient, color, palette, saturation, errcolor, errwidth, capsize, dodge)\u001b[0m\n\u001b[0;32m   1582\u001b[0m                  errwidth, capsize, dodge):\n\u001b[0;32m   1583\u001b[0m         \u001b[1;34m\"\"\"Initialize the plotter.\"\"\"\u001b[0m\u001b[1;33m\u001b[0m\u001b[1;33m\u001b[0m\u001b[0m\n\u001b[1;32m-> 1584\u001b[1;33m         self.establish_variables(x, y, hue, data, orient,\n\u001b[0m\u001b[0;32m   1585\u001b[0m                                  order, hue_order, units)\n\u001b[0;32m   1586\u001b[0m         \u001b[0mself\u001b[0m\u001b[1;33m.\u001b[0m\u001b[0mestablish_colors\u001b[0m\u001b[1;33m(\u001b[0m\u001b[0mcolor\u001b[0m\u001b[1;33m,\u001b[0m \u001b[0mpalette\u001b[0m\u001b[1;33m,\u001b[0m \u001b[0msaturation\u001b[0m\u001b[1;33m)\u001b[0m\u001b[1;33m\u001b[0m\u001b[1;33m\u001b[0m\u001b[0m\n",
      "\u001b[1;32m~\\anaconda3\\lib\\site-packages\\seaborn\\categorical.py\u001b[0m in \u001b[0;36mestablish_variables\u001b[1;34m(self, x, y, hue, data, orient, order, hue_order, units)\u001b[0m\n\u001b[0;32m    151\u001b[0m                 \u001b[1;32mif\u001b[0m \u001b[0misinstance\u001b[0m\u001b[1;33m(\u001b[0m\u001b[0mvar\u001b[0m\u001b[1;33m,\u001b[0m \u001b[0mstr\u001b[0m\u001b[1;33m)\u001b[0m\u001b[1;33m:\u001b[0m\u001b[1;33m\u001b[0m\u001b[1;33m\u001b[0m\u001b[0m\n\u001b[0;32m    152\u001b[0m                     \u001b[0merr\u001b[0m \u001b[1;33m=\u001b[0m \u001b[1;34m\"Could not interpret input '{}'\"\u001b[0m\u001b[1;33m.\u001b[0m\u001b[0mformat\u001b[0m\u001b[1;33m(\u001b[0m\u001b[0mvar\u001b[0m\u001b[1;33m)\u001b[0m\u001b[1;33m\u001b[0m\u001b[1;33m\u001b[0m\u001b[0m\n\u001b[1;32m--> 153\u001b[1;33m                     \u001b[1;32mraise\u001b[0m \u001b[0mValueError\u001b[0m\u001b[1;33m(\u001b[0m\u001b[0merr\u001b[0m\u001b[1;33m)\u001b[0m\u001b[1;33m\u001b[0m\u001b[1;33m\u001b[0m\u001b[0m\n\u001b[0m\u001b[0;32m    154\u001b[0m \u001b[1;33m\u001b[0m\u001b[0m\n\u001b[0;32m    155\u001b[0m             \u001b[1;31m# Figure out the plotting orientation\u001b[0m\u001b[1;33m\u001b[0m\u001b[1;33m\u001b[0m\u001b[0m\n",
      "\u001b[1;31mValueError\u001b[0m: Could not interpret input 'Area Type'"
     ]
    }
   ],
   "source": [
    "#Trend of Rent from Area Type\n",
    "sns.barplot(x = 'Area Type',y = 'Rent',data = dataset)"
   ]
  },
  {
   "cell_type": "code",
   "execution_count": 43,
   "id": "cb2275b0",
   "metadata": {},
   "outputs": [
    {
     "data": {
      "text/plain": [
       "<AxesSubplot:xlabel='Furnishing Status', ylabel='Rent'>"
      ]
     },
     "execution_count": 43,
     "metadata": {},
     "output_type": "execute_result"
    },
    {
     "data": {
      "image/png": "[encoded data removed]",
      "text/plain": [
       "<Figure size 432x288 with 1 Axes>"
      ]
     },
     "metadata": {
      "needs_background": "light"
     },
     "output_type": "display_data"
    }
   ],
   "source": [
    "#Trend of Rent from Furnishing Status\n",
    "sns.barplot(x = 'Furnishing Status',y = 'Rent',data = dataset)"
   ]
  },
  {
   "cell_type": "code",
   "execution_count": 44,
   "id": "9f49c91b",
   "metadata": {},
   "outputs": [
    {
     "ename": "ValueError",
     "evalue": "Could not interpret input 'Point of Contact'",
     "output_type": "error",
     "traceback": [
      "\u001b[1;31m---------------------------------------------------------------------------\u001b[0m",
      "\u001b[1;31mValueError\u001b[0m                                Traceback (most recent call last)",
      "\u001b[1;32mC:\\Users\\ARNABS~1\\AppData\\Local\\Temp/ipykernel_4288/2009493873.py\u001b[0m in \u001b[0;36m<module>\u001b[1;34m\u001b[0m\n\u001b[0;32m      1\u001b[0m \u001b[1;31m#Trend of Rent from Point of Contact\u001b[0m\u001b[1;33m\u001b[0m\u001b[1;33m\u001b[0m\u001b[0m\n\u001b[1;32m----> 2\u001b[1;33m \u001b[0msns\u001b[0m\u001b[1;33m.\u001b[0m\u001b[0mbarplot\u001b[0m\u001b[1;33m(\u001b[0m\u001b[0mx\u001b[0m \u001b[1;33m=\u001b[0m \u001b[1;34m'Point of Contact'\u001b[0m\u001b[1;33m,\u001b[0m\u001b[0my\u001b[0m \u001b[1;33m=\u001b[0m \u001b[1;34m'Rent'\u001b[0m\u001b[1;33m,\u001b[0m\u001b[0mdata\u001b[0m \u001b[1;33m=\u001b[0m \u001b[0mdataset\u001b[0m\u001b[1;33m)\u001b[0m\u001b[1;33m\u001b[0m\u001b[1;33m\u001b[0m\u001b[0m\n\u001b[0m",
      "\u001b[1;32m~\\anaconda3\\lib\\site-packages\\seaborn\\_decorators.py\u001b[0m in \u001b[0;36minner_f\u001b[1;34m(*args, **kwargs)\u001b[0m\n\u001b[0;32m     44\u001b[0m             )\n\u001b[0;32m     45\u001b[0m         \u001b[0mkwargs\u001b[0m\u001b[1;33m.\u001b[0m\u001b[0mupdate\u001b[0m\u001b[1;33m(\u001b[0m\u001b[1;33m{\u001b[0m\u001b[0mk\u001b[0m\u001b[1;33m:\u001b[0m \u001b[0marg\u001b[0m \u001b[1;32mfor\u001b[0m \u001b[0mk\u001b[0m\u001b[1;33m,\u001b[0m \u001b[0marg\u001b[0m \u001b[1;32min\u001b[0m \u001b[0mzip\u001b[0m\u001b[1;33m(\u001b[0m\u001b[0msig\u001b[0m\u001b[1;33m.\u001b[0m\u001b[0mparameters\u001b[0m\u001b[1;33m,\u001b[0m \u001b[0margs\u001b[0m\u001b[1;33m)\u001b[0m\u001b[1;33m}\u001b[0m\u001b[1;33m)\u001b[0m\u001b[1;33m\u001b[0m\u001b[1;33m\u001b[0m\u001b[0m\n\u001b[1;32m---> 46\u001b[1;33m         \u001b[1;32mreturn\u001b[0m \u001b[0mf\u001b[0m\u001b[1;33m(\u001b[0m\u001b[1;33m**\u001b[0m\u001b[0mkwargs\u001b[0m\u001b[1;33m)\u001b[0m\u001b[1;33m\u001b[0m\u001b[1;33m\u001b[0m\u001b[0m\n\u001b[0m\u001b[0;32m     47\u001b[0m     \u001b[1;32mreturn\u001b[0m \u001b[0minner_f\u001b[0m\u001b[1;33m\u001b[0m\u001b[1;33m\u001b[0m\u001b[0m\n\u001b[0;32m     48\u001b[0m \u001b[1;33m\u001b[0m\u001b[0m\n",
      "\u001b[1;32m~\\anaconda3\\lib\\site-packages\\seaborn\\categorical.py\u001b[0m in \u001b[0;36mbarplot\u001b[1;34m(x, y, hue, data, order, hue_order, estimator, ci, n_boot, units, seed, orient, color, palette, saturation, errcolor, errwidth, capsize, dodge, ax, **kwargs)\u001b[0m\n\u001b[0;32m   3180\u001b[0m ):\n\u001b[0;32m   3181\u001b[0m \u001b[1;33m\u001b[0m\u001b[0m\n\u001b[1;32m-> 3182\u001b[1;33m     plotter = _BarPlotter(x, y, hue, data, order, hue_order,\n\u001b[0m\u001b[0;32m   3183\u001b[0m                           \u001b[0mestimator\u001b[0m\u001b[1;33m,\u001b[0m \u001b[0mci\u001b[0m\u001b[1;33m,\u001b[0m \u001b[0mn_boot\u001b[0m\u001b[1;33m,\u001b[0m \u001b[0munits\u001b[0m\u001b[1;33m,\u001b[0m \u001b[0mseed\u001b[0m\u001b[1;33m,\u001b[0m\u001b[1;33m\u001b[0m\u001b[1;33m\u001b[0m\u001b[0m\n\u001b[0;32m   3184\u001b[0m                           \u001b[0morient\u001b[0m\u001b[1;33m,\u001b[0m \u001b[0mcolor\u001b[0m\u001b[1;33m,\u001b[0m \u001b[0mpalette\u001b[0m\u001b[1;33m,\u001b[0m \u001b[0msaturation\u001b[0m\u001b[1;33m,\u001b[0m\u001b[1;33m\u001b[0m\u001b[1;33m\u001b[0m\u001b[0m\n",
      "\u001b[1;32m~\\anaconda3\\lib\\site-packages\\seaborn\\categorical.py\u001b[0m in \u001b[0;36m__init__\u001b[1;34m(self, x, y, hue, data, order, hue_order, estimator, ci, n_boot, units, seed, orient, color, palette, saturation, errcolor, errwidth, capsize, dodge)\u001b[0m\n\u001b[0;32m   1582\u001b[0m                  errwidth, capsize, dodge):\n\u001b[0;32m   1583\u001b[0m         \u001b[1;34m\"\"\"Initialize the plotter.\"\"\"\u001b[0m\u001b[1;33m\u001b[0m\u001b[1;33m\u001b[0m\u001b[0m\n\u001b[1;32m-> 1584\u001b[1;33m         self.establish_variables(x, y, hue, data, orient,\n\u001b[0m\u001b[0;32m   1585\u001b[0m                                  order, hue_order, units)\n\u001b[0;32m   1586\u001b[0m         \u001b[0mself\u001b[0m\u001b[1;33m.\u001b[0m\u001b[0mestablish_colors\u001b[0m\u001b[1;33m(\u001b[0m\u001b[0mcolor\u001b[0m\u001b[1;33m,\u001b[0m \u001b[0mpalette\u001b[0m\u001b[1;33m,\u001b[0m \u001b[0msaturation\u001b[0m\u001b[1;33m)\u001b[0m\u001b[1;33m\u001b[0m\u001b[1;33m\u001b[0m\u001b[0m\n",
      "\u001b[1;32m~\\anaconda3\\lib\\site-packages\\seaborn\\categorical.py\u001b[0m in \u001b[0;36mestablish_variables\u001b[1;34m(self, x, y, hue, data, orient, order, hue_order, units)\u001b[0m\n\u001b[0;32m    151\u001b[0m                 \u001b[1;32mif\u001b[0m \u001b[0misinstance\u001b[0m\u001b[1;33m(\u001b[0m\u001b[0mvar\u001b[0m\u001b[1;33m,\u001b[0m \u001b[0mstr\u001b[0m\u001b[1;33m)\u001b[0m\u001b[1;33m:\u001b[0m\u001b[1;33m\u001b[0m\u001b[1;33m\u001b[0m\u001b[0m\n\u001b[0;32m    152\u001b[0m                     \u001b[0merr\u001b[0m \u001b[1;33m=\u001b[0m \u001b[1;34m\"Could not interpret input '{}'\"\u001b[0m\u001b[1;33m.\u001b[0m\u001b[0mformat\u001b[0m\u001b[1;33m(\u001b[0m\u001b[0mvar\u001b[0m\u001b[1;33m)\u001b[0m\u001b[1;33m\u001b[0m\u001b[1;33m\u001b[0m\u001b[0m\n\u001b[1;32m--> 153\u001b[1;33m                     \u001b[1;32mraise\u001b[0m \u001b[0mValueError\u001b[0m\u001b[1;33m(\u001b[0m\u001b[0merr\u001b[0m\u001b[1;33m)\u001b[0m\u001b[1;33m\u001b[0m\u001b[1;33m\u001b[0m\u001b[0m\n\u001b[0m\u001b[0;32m    154\u001b[0m \u001b[1;33m\u001b[0m\u001b[0m\n\u001b[0;32m    155\u001b[0m             \u001b[1;31m# Figure out the plotting orientation\u001b[0m\u001b[1;33m\u001b[0m\u001b[1;33m\u001b[0m\u001b[0m\n",
      "\u001b[1;31mValueError\u001b[0m: Could not interpret input 'Point of Contact'"
     ]
    }
   ],
   "source": [
    "#Trend of Rent from Point of Contact\n",
    "sns.barplot(x = 'Point of Contact',y = 'Rent',data = dataset)"
   ]
  },
  {
   "cell_type": "markdown",
   "id": "c588c02c",
   "metadata": {},
   "source": [
    "## Data Formating "
   ]
  },
  {
   "cell_type": "code",
   "execution_count": 45,
   "id": "e3e813e8",
   "metadata": {},
   "outputs": [],
   "source": [
    "# Converting Floor column to Max and Min Floor\n",
    "\n",
    "floor=dataset['Floor'].to_numpy()\n",
    "max_floor=[]\n",
    "min_floor=[]\n",
    "for i in floor:\n",
    "    words=i.split(' ')\n",
    "    min_no=words[0]\n",
    "    max_no=words[-1]\n",
    "    if(min_no=='Ground'):\n",
    "        min_no=int(0)\n",
    "    if(min_no=='Upper'):\n",
    "        min_no=int(0)\n",
    "    if(min_no=='Lower'):\n",
    "        min_no=int(-1)\n",
    "    if(max_no=='Ground'):\n",
    "        max_no=int(0)\n",
    "    min_floor.append(min_no)\n",
    "    max_floor.append(max_no)\n",
    "\n",
    "dataset.insert(0, 'max_floor', max_floor)\n",
    "dataset.insert(0, 'min_floor', min_floor)\n",
    "\n",
    "dataset['max_floor']=dataset['max_floor'].astype(int)\n",
    "dataset['min_floor']=dataset['min_floor'].astype(int)\n",
    "dataset=dataset.drop(['Floor'],axis=1)"
   ]
  },
  {
   "cell_type": "code",
   "execution_count": 46,
   "id": "3b285b78",
   "metadata": {},
   "outputs": [
    {
     "name": "stdout",
     "output_type": "stream",
     "text": [
      "The Remaining Categorical Columns ['City', 'Furnishing Status']\n"
     ]
    }
   ],
   "source": [
    "#Encoding all other categorical variables\n",
    "cat_column_names=dataset.select_dtypes(include=['object']).columns.tolist()\n",
    "print('The Remaining Categorical Columns',cat_column_names)\n",
    "for i in cat_column_names:\n",
    "    categories=list(dataset[i].value_counts().index)\n",
    "    \n",
    "    n=(len(categories))\n",
    "    dummy=np.zeros([len(dataset['BHK'].values),n])\n",
    "    for j in range(len(dataset['BHK'].values)):\n",
    "        p=categories.index(dataset[i].values[j])\n",
    "        dummy[j][p]=1\n",
    "    for j in range(len(categories)):\n",
    "        dataset.insert(0, categories[j], np.transpose(dummy)[j])\n",
    "        dataset[categories[j]]=dataset[categories[j]].astype(int)"
   ]
  },
  {
   "cell_type": "code",
   "execution_count": 47,
   "id": "656bd095",
   "metadata": {},
   "outputs": [
    {
     "data": {
      "text/html": [
       "<div>\n",
       "<style scoped>\n",
       "    .dataframe tbody tr th:only-of-type {\n",
       "        vertical-align: middle;\n",
       "    }\n",
       "\n",
       "    .dataframe tbody tr th {\n",
       "        vertical-align: top;\n",
       "    }\n",
       "\n",
       "    .dataframe thead th {\n",
       "        text-align: right;\n",
       "    }\n",
       "</style>\n",
       "<table border=\"1\" class=\"dataframe\">\n",
       "  <thead>\n",
       "    <tr style=\"text-align: right;\">\n",
       "      <th></th>\n",
       "      <th>Furnished</th>\n",
       "      <th>Unfurnished</th>\n",
       "      <th>Semi-Furnished</th>\n",
       "      <th>Kolkata</th>\n",
       "      <th>Delhi</th>\n",
       "      <th>Hyderabad</th>\n",
       "      <th>Bangalore</th>\n",
       "      <th>Chennai</th>\n",
       "      <th>Mumbai</th>\n",
       "      <th>min_floor</th>\n",
       "      <th>max_floor</th>\n",
       "      <th>BHK</th>\n",
       "      <th>Size</th>\n",
       "      <th>City</th>\n",
       "      <th>Furnishing Status</th>\n",
       "      <th>Bathroom</th>\n",
       "      <th>Rent</th>\n",
       "    </tr>\n",
       "  </thead>\n",
       "  <tbody>\n",
       "    <tr>\n",
       "      <th>0</th>\n",
       "      <td>0</td>\n",
       "      <td>1</td>\n",
       "      <td>0</td>\n",
       "      <td>1</td>\n",
       "      <td>0</td>\n",
       "      <td>0</td>\n",
       "      <td>0</td>\n",
       "      <td>0</td>\n",
       "      <td>0</td>\n",
       "      <td>0</td>\n",
       "      <td>2</td>\n",
       "      <td>2</td>\n",
       "      <td>1100</td>\n",
       "      <td>Kolkata</td>\n",
       "      <td>Unfurnished</td>\n",
       "      <td>2</td>\n",
       "      <td>10000</td>\n",
       "    </tr>\n",
       "    <tr>\n",
       "      <th>1</th>\n",
       "      <td>0</td>\n",
       "      <td>0</td>\n",
       "      <td>1</td>\n",
       "      <td>1</td>\n",
       "      <td>0</td>\n",
       "      <td>0</td>\n",
       "      <td>0</td>\n",
       "      <td>0</td>\n",
       "      <td>0</td>\n",
       "      <td>1</td>\n",
       "      <td>3</td>\n",
       "      <td>2</td>\n",
       "      <td>800</td>\n",
       "      <td>Kolkata</td>\n",
       "      <td>Semi-Furnished</td>\n",
       "      <td>1</td>\n",
       "      <td>20000</td>\n",
       "    </tr>\n",
       "    <tr>\n",
       "      <th>2</th>\n",
       "      <td>0</td>\n",
       "      <td>0</td>\n",
       "      <td>1</td>\n",
       "      <td>1</td>\n",
       "      <td>0</td>\n",
       "      <td>0</td>\n",
       "      <td>0</td>\n",
       "      <td>0</td>\n",
       "      <td>0</td>\n",
       "      <td>1</td>\n",
       "      <td>3</td>\n",
       "      <td>2</td>\n",
       "      <td>1000</td>\n",
       "      <td>Kolkata</td>\n",
       "      <td>Semi-Furnished</td>\n",
       "      <td>1</td>\n",
       "      <td>17000</td>\n",
       "    </tr>\n",
       "    <tr>\n",
       "      <th>3</th>\n",
       "      <td>0</td>\n",
       "      <td>1</td>\n",
       "      <td>0</td>\n",
       "      <td>1</td>\n",
       "      <td>0</td>\n",
       "      <td>0</td>\n",
       "      <td>0</td>\n",
       "      <td>0</td>\n",
       "      <td>0</td>\n",
       "      <td>1</td>\n",
       "      <td>2</td>\n",
       "      <td>2</td>\n",
       "      <td>800</td>\n",
       "      <td>Kolkata</td>\n",
       "      <td>Unfurnished</td>\n",
       "      <td>1</td>\n",
       "      <td>10000</td>\n",
       "    </tr>\n",
       "    <tr>\n",
       "      <th>4</th>\n",
       "      <td>0</td>\n",
       "      <td>1</td>\n",
       "      <td>0</td>\n",
       "      <td>1</td>\n",
       "      <td>0</td>\n",
       "      <td>0</td>\n",
       "      <td>0</td>\n",
       "      <td>0</td>\n",
       "      <td>0</td>\n",
       "      <td>1</td>\n",
       "      <td>2</td>\n",
       "      <td>2</td>\n",
       "      <td>850</td>\n",
       "      <td>Kolkata</td>\n",
       "      <td>Unfurnished</td>\n",
       "      <td>1</td>\n",
       "      <td>7500</td>\n",
       "    </tr>\n",
       "  </tbody>\n",
       "</table>\n",
       "</div>"
      ],
      "text/plain": [
       "   Furnished  Unfurnished  Semi-Furnished  Kolkata  Delhi  Hyderabad  \\\n",
       "0          0            1               0        1      0          0   \n",
       "1          0            0               1        1      0          0   \n",
       "2          0            0               1        1      0          0   \n",
       "3          0            1               0        1      0          0   \n",
       "4          0            1               0        1      0          0   \n",
       "\n",
       "   Bangalore  Chennai  Mumbai  min_floor  max_floor  BHK  Size     City  \\\n",
       "0          0        0       0          0          2    2  1100  Kolkata   \n",
       "1          0        0       0          1          3    2   800  Kolkata   \n",
       "2          0        0       0          1          3    2  1000  Kolkata   \n",
       "3          0        0       0          1          2    2   800  Kolkata   \n",
       "4          0        0       0          1          2    2   850  Kolkata   \n",
       "\n",
       "  Furnishing Status  Bathroom   Rent  \n",
       "0       Unfurnished         2  10000  \n",
       "1    Semi-Furnished         1  20000  \n",
       "2    Semi-Furnished         1  17000  \n",
       "3       Unfurnished         1  10000  \n",
       "4       Unfurnished         1   7500  "
      ]
     },
     "execution_count": 47,
     "metadata": {},
     "output_type": "execute_result"
    }
   ],
   "source": [
    "# Dataset after all Categorical Variables are encoded\n",
    "dataset.head()\n"
   ]
  },
  {
   "cell_type": "code",
   "execution_count": 48,
   "id": "d20bd7ae",
   "metadata": {},
   "outputs": [
    {
     "data": {
      "text/html": [
       "<div>\n",
       "<style scoped>\n",
       "    .dataframe tbody tr th:only-of-type {\n",
       "        vertical-align: middle;\n",
       "    }\n",
       "\n",
       "    .dataframe tbody tr th {\n",
       "        vertical-align: top;\n",
       "    }\n",
       "\n",
       "    .dataframe thead th {\n",
       "        text-align: right;\n",
       "    }\n",
       "</style>\n",
       "<table border=\"1\" class=\"dataframe\">\n",
       "  <thead>\n",
       "    <tr style=\"text-align: right;\">\n",
       "      <th></th>\n",
       "      <th>Furnished</th>\n",
       "      <th>Unfurnished</th>\n",
       "      <th>Semi-Furnished</th>\n",
       "      <th>Kolkata</th>\n",
       "      <th>Delhi</th>\n",
       "      <th>Hyderabad</th>\n",
       "      <th>Bangalore</th>\n",
       "      <th>Chennai</th>\n",
       "      <th>Mumbai</th>\n",
       "      <th>min_floor</th>\n",
       "      <th>max_floor</th>\n",
       "      <th>BHK</th>\n",
       "      <th>Size</th>\n",
       "      <th>Bathroom</th>\n",
       "      <th>Rent</th>\n",
       "    </tr>\n",
       "  </thead>\n",
       "  <tbody>\n",
       "    <tr>\n",
       "      <th>count</th>\n",
       "      <td>4745.000000</td>\n",
       "      <td>4745.000000</td>\n",
       "      <td>4745.000000</td>\n",
       "      <td>4745.000000</td>\n",
       "      <td>4745.000000</td>\n",
       "      <td>4745.000000</td>\n",
       "      <td>4745.000000</td>\n",
       "      <td>4745.000000</td>\n",
       "      <td>4745.000000</td>\n",
       "      <td>4745.000000</td>\n",
       "      <td>4745.000000</td>\n",
       "      <td>4745.000000</td>\n",
       "      <td>4745.000000</td>\n",
       "      <td>4745.000000</td>\n",
       "      <td>4.745000e+03</td>\n",
       "    </tr>\n",
       "    <tr>\n",
       "      <th>mean</th>\n",
       "      <td>0.143098</td>\n",
       "      <td>0.382508</td>\n",
       "      <td>0.474394</td>\n",
       "      <td>0.110221</td>\n",
       "      <td>0.127503</td>\n",
       "      <td>0.182929</td>\n",
       "      <td>0.186723</td>\n",
       "      <td>0.187777</td>\n",
       "      <td>0.204847</td>\n",
       "      <td>3.443836</td>\n",
       "      <td>6.969863</td>\n",
       "      <td>2.083667</td>\n",
       "      <td>967.423604</td>\n",
       "      <td>1.965859</td>\n",
       "      <td>3.499240e+04</td>\n",
       "    </tr>\n",
       "    <tr>\n",
       "      <th>std</th>\n",
       "      <td>0.350210</td>\n",
       "      <td>0.486051</td>\n",
       "      <td>0.499397</td>\n",
       "      <td>0.313198</td>\n",
       "      <td>0.333570</td>\n",
       "      <td>0.386649</td>\n",
       "      <td>0.389730</td>\n",
       "      <td>0.390575</td>\n",
       "      <td>0.403632</td>\n",
       "      <td>5.769155</td>\n",
       "      <td>9.467846</td>\n",
       "      <td>0.832237</td>\n",
       "      <td>634.252305</td>\n",
       "      <td>0.884625</td>\n",
       "      <td>7.811461e+04</td>\n",
       "    </tr>\n",
       "    <tr>\n",
       "      <th>min</th>\n",
       "      <td>0.000000</td>\n",
       "      <td>0.000000</td>\n",
       "      <td>0.000000</td>\n",
       "      <td>0.000000</td>\n",
       "      <td>0.000000</td>\n",
       "      <td>0.000000</td>\n",
       "      <td>0.000000</td>\n",
       "      <td>0.000000</td>\n",
       "      <td>0.000000</td>\n",
       "      <td>-1.000000</td>\n",
       "      <td>0.000000</td>\n",
       "      <td>1.000000</td>\n",
       "      <td>10.000000</td>\n",
       "      <td>1.000000</td>\n",
       "      <td>1.200000e+03</td>\n",
       "    </tr>\n",
       "    <tr>\n",
       "      <th>25%</th>\n",
       "      <td>0.000000</td>\n",
       "      <td>0.000000</td>\n",
       "      <td>0.000000</td>\n",
       "      <td>0.000000</td>\n",
       "      <td>0.000000</td>\n",
       "      <td>0.000000</td>\n",
       "      <td>0.000000</td>\n",
       "      <td>0.000000</td>\n",
       "      <td>0.000000</td>\n",
       "      <td>1.000000</td>\n",
       "      <td>2.000000</td>\n",
       "      <td>2.000000</td>\n",
       "      <td>550.000000</td>\n",
       "      <td>1.000000</td>\n",
       "      <td>1.000000e+04</td>\n",
       "    </tr>\n",
       "    <tr>\n",
       "      <th>50%</th>\n",
       "      <td>0.000000</td>\n",
       "      <td>0.000000</td>\n",
       "      <td>0.000000</td>\n",
       "      <td>0.000000</td>\n",
       "      <td>0.000000</td>\n",
       "      <td>0.000000</td>\n",
       "      <td>0.000000</td>\n",
       "      <td>0.000000</td>\n",
       "      <td>0.000000</td>\n",
       "      <td>2.000000</td>\n",
       "      <td>4.000000</td>\n",
       "      <td>2.000000</td>\n",
       "      <td>850.000000</td>\n",
       "      <td>2.000000</td>\n",
       "      <td>1.600000e+04</td>\n",
       "    </tr>\n",
       "    <tr>\n",
       "      <th>75%</th>\n",
       "      <td>0.000000</td>\n",
       "      <td>1.000000</td>\n",
       "      <td>1.000000</td>\n",
       "      <td>0.000000</td>\n",
       "      <td>0.000000</td>\n",
       "      <td>0.000000</td>\n",
       "      <td>0.000000</td>\n",
       "      <td>0.000000</td>\n",
       "      <td>0.000000</td>\n",
       "      <td>3.000000</td>\n",
       "      <td>6.000000</td>\n",
       "      <td>3.000000</td>\n",
       "      <td>1200.000000</td>\n",
       "      <td>2.000000</td>\n",
       "      <td>3.300000e+04</td>\n",
       "    </tr>\n",
       "    <tr>\n",
       "      <th>max</th>\n",
       "      <td>1.000000</td>\n",
       "      <td>1.000000</td>\n",
       "      <td>1.000000</td>\n",
       "      <td>1.000000</td>\n",
       "      <td>1.000000</td>\n",
       "      <td>1.000000</td>\n",
       "      <td>1.000000</td>\n",
       "      <td>1.000000</td>\n",
       "      <td>1.000000</td>\n",
       "      <td>76.000000</td>\n",
       "      <td>89.000000</td>\n",
       "      <td>6.000000</td>\n",
       "      <td>8000.000000</td>\n",
       "      <td>10.000000</td>\n",
       "      <td>3.500000e+06</td>\n",
       "    </tr>\n",
       "  </tbody>\n",
       "</table>\n",
       "</div>"
      ],
      "text/plain": [
       "         Furnished  Unfurnished  Semi-Furnished      Kolkata        Delhi  \\\n",
       "count  4745.000000  4745.000000     4745.000000  4745.000000  4745.000000   \n",
       "mean      0.143098     0.382508        0.474394     0.110221     0.127503   \n",
       "std       0.350210     0.486051        0.499397     0.313198     0.333570   \n",
       "min       0.000000     0.000000        0.000000     0.000000     0.000000   \n",
       "25%       0.000000     0.000000        0.000000     0.000000     0.000000   \n",
       "50%       0.000000     0.000000        0.000000     0.000000     0.000000   \n",
       "75%       0.000000     1.000000        1.000000     0.000000     0.000000   \n",
       "max       1.000000     1.000000        1.000000     1.000000     1.000000   \n",
       "\n",
       "         Hyderabad    Bangalore      Chennai       Mumbai    min_floor  \\\n",
       "count  4745.000000  4745.000000  4745.000000  4745.000000  4745.000000   \n",
       "mean      0.182929     0.186723     0.187777     0.204847     3.443836   \n",
       "std       0.386649     0.389730     0.390575     0.403632     5.769155   \n",
       "min       0.000000     0.000000     0.000000     0.000000    -1.000000   \n",
       "25%       0.000000     0.000000     0.000000     0.000000     1.000000   \n",
       "50%       0.000000     0.000000     0.000000     0.000000     2.000000   \n",
       "75%       0.000000     0.000000     0.000000     0.000000     3.000000   \n",
       "max       1.000000     1.000000     1.000000     1.000000    76.000000   \n",
       "\n",
       "         max_floor          BHK         Size     Bathroom          Rent  \n",
       "count  4745.000000  4745.000000  4745.000000  4745.000000  4.745000e+03  \n",
       "mean      6.969863     2.083667   967.423604     1.965859  3.499240e+04  \n",
       "std       9.467846     0.832237   634.252305     0.884625  7.811461e+04  \n",
       "min       0.000000     1.000000    10.000000     1.000000  1.200000e+03  \n",
       "25%       2.000000     2.000000   550.000000     1.000000  1.000000e+04  \n",
       "50%       4.000000     2.000000   850.000000     2.000000  1.600000e+04  \n",
       "75%       6.000000     3.000000  1200.000000     2.000000  3.300000e+04  \n",
       "max      89.000000     6.000000  8000.000000    10.000000  3.500000e+06  "
      ]
     },
     "execution_count": 48,
     "metadata": {},
     "output_type": "execute_result"
    }
   ],
   "source": [
    "#Dropping Unnessary Categorical Variables\n",
    "cat_column_names\n",
    "for i in cat_column_names:\n",
    "    dataset=dataset.drop([i],axis=1)\n",
    "#After dropping columns\n",
    "dataset.head()\n",
    "dataset.describe()"
   ]
  },
  {
   "cell_type": "markdown",
   "id": "6b41249d",
   "metadata": {},
   "source": [
    "## Checking for Missing Data"
   ]
  },
  {
   "cell_type": "code",
   "execution_count": 49,
   "id": "a4304504",
   "metadata": {},
   "outputs": [
    {
     "name": "stdout",
     "output_type": "stream",
     "text": [
      "Number of Missing Data :  0\n"
     ]
    }
   ],
   "source": [
    "print(\"Number of Missing Data : \",dataset.isnull().values.sum())\n"
   ]
  },
  {
   "cell_type": "markdown",
   "id": "64bbeae8",
   "metadata": {},
   "source": [
    "## Building Dependent and Independent Variables "
   ]
  },
  {
   "cell_type": "code",
   "execution_count": 50,
   "id": "e01f9f5e",
   "metadata": {},
   "outputs": [],
   "source": [
    "X=dataset.iloc[:,:-1].values\n",
    "Y=dataset.iloc[:,-1].values"
   ]
  },
  {
   "cell_type": "markdown",
   "id": "7dd2d606",
   "metadata": {},
   "source": [
    "## Train Test Split"
   ]
  },
  {
   "cell_type": "code",
   "execution_count": 51,
   "id": "84ea534d",
   "metadata": {},
   "outputs": [],
   "source": [
    "from sklearn.model_selection import train_test_split\n",
    "X_train,X_test,Y_train,Y_test=train_test_split(X,Y,test_size=0.25,random_state=1)"
   ]
  },
  {
   "cell_type": "code",
   "execution_count": 52,
   "id": "c90e9115",
   "metadata": {},
   "outputs": [
    {
     "name": "stdout",
     "output_type": "stream",
     "text": [
      "No of Data points in each set::\n",
      "X train Length :  3558\n",
      "X test Length :  1187\n",
      "Y train Length :  3558\n",
      "Y test Length :  1187\n"
     ]
    }
   ],
   "source": [
    "print('No of Data points in each set::')\n",
    "print(\"X train Length : \",len(X_train))\n",
    "print(\"X test Length : \",len(X_test))\n",
    "print(\"Y train Length : \",len(Y_train))\n",
    "print(\"Y test Length : \",len(Y_test))"
   ]
  },
  {
   "cell_type": "markdown",
   "id": "958db890",
   "metadata": {},
   "source": [
    "## Training multiple linear regressor (MLR):"
   ]
  },
  {
   "cell_type": "code",
   "execution_count": 53,
   "id": "0a078d29",
   "metadata": {},
   "outputs": [
    {
     "name": "stdout",
     "output_type": "stream",
     "text": [
      "Prediction of First Data Point:  27308 ; Actual Value:  10000\n"
     ]
    }
   ],
   "source": [
    "from sklearn.linear_model import LinearRegression\n",
    "Linear_regressor=LinearRegression()\n",
    "Linear_regressor.fit(X_train,Y_train)\n",
    "\n",
    "#Prediction of Multiple Linear Regressor\n",
    "print('Prediction of First Data Point: ',int(Linear_regressor.predict(X[0].reshape(1,-1))),'; Actual Value: ',Y[0] )"
   ]
  },
  {
   "cell_type": "markdown",
   "id": "1c3fb5a9",
   "metadata": {},
   "source": [
    "## Training decision tree regressor (DT):"
   ]
  },
  {
   "cell_type": "code",
   "execution_count": 54,
   "id": "2a2ae665",
   "metadata": {},
   "outputs": [
    {
     "name": "stdout",
     "output_type": "stream",
     "text": [
      "Prediction of First Data Point:  16500 ; Actual Value:  10000\n"
     ]
    }
   ],
   "source": [
    "## Training Model\n",
    "\n",
    "from sklearn.tree import DecisionTreeRegressor\n",
    "Decision_Tree_regressor=DecisionTreeRegressor()\n",
    "Decision_Tree_regressor.fit(X_train,Y_train)\n",
    "\n",
    "## Prediction of Decision Tree Regression Model\n",
    "\n",
    "print('Prediction of First Data Point: ',int(Decision_Tree_regressor.predict(X[0].reshape(1,-1))),'; Actual Value: ',Y[0] )"
   ]
  },
  {
   "cell_type": "markdown",
   "id": "3af50568",
   "metadata": {},
   "source": [
    "## Training random forest regressor (RF):"
   ]
  },
  {
   "cell_type": "code",
   "execution_count": 55,
   "id": "d70bdf4b",
   "metadata": {},
   "outputs": [
    {
     "name": "stdout",
     "output_type": "stream",
     "text": [
      "Prediction of First Data Point:  14428 ; Actual Value:  10000\n"
     ]
    }
   ],
   "source": [
    "## Training Model\n",
    "\n",
    "from sklearn.ensemble import RandomForestRegressor\n",
    "Random_Forest_regressor=RandomForestRegressor(n_estimators=500,max_depth=10,random_state=0)\n",
    "Random_Forest_regressor.fit(X_train,Y_train)\n",
    "\n",
    "#Prediction of Random Forest Regressor\n",
    "print('Prediction of First Data Point: ',int(Random_Forest_regressor.predict(X[0].reshape(1,-1))),'; Actual Value: ',Y[0] )"
   ]
  },
  {
   "cell_type": "markdown",
   "id": "d9102d72",
   "metadata": {},
   "source": [
    "## Feature scaling for support vector regressor(SVR) : "
   ]
  },
  {
   "cell_type": "code",
   "execution_count": 56,
   "id": "4fae39cc",
   "metadata": {},
   "outputs": [],
   "source": [
    "from sklearn.preprocessing import StandardScaler\n",
    "sc=StandardScaler()\n",
    "\n",
    "X_train1=sc.fit_transform(X_train)\n",
    "X_test1=sc.transform(X_test)\n",
    "sc2=StandardScaler()\n",
    "Y_train1=sc2.fit_transform(Y_train.reshape(-1,1))"
   ]
  },
  {
   "cell_type": "markdown",
   "id": "7853fc88",
   "metadata": {},
   "source": [
    "## Training SVR:"
   ]
  },
  {
   "cell_type": "code",
   "execution_count": 57,
   "id": "3a3e436a",
   "metadata": {
    "scrolled": true
   },
   "outputs": [
    {
     "name": "stderr",
     "output_type": "stream",
     "text": [
      "C:\\Users\\ARNAB SARKAR\\anaconda3\\lib\\site-packages\\sklearn\\utils\\validation.py:1111: DataConversionWarning: A column-vector y was passed when a 1d array was expected. Please change the shape of y to (n_samples, ), for example using ravel().\n",
      "  y = column_or_1d(y, warn=True)\n"
     ]
    },
    {
     "name": "stdout",
     "output_type": "stream",
     "text": [
      "Prediction of First Data Point:  14026 ; Actual Value:  10000\n"
     ]
    }
   ],
   "source": [
    "#Training Model\n",
    "\n",
    "from sklearn.svm import SVR\n",
    "SVM_regressor=SVR(C=1,kernel='rbf',gamma=1)\n",
    "SVM_regressor.fit(X_train1,Y_train1)\n",
    "\n",
    "#Prediction of Support Vector Regressor\n",
    "print('Prediction of First Data Point: ',int(sc2.inverse_transform(SVM_regressor.predict(sc.transform(X[0].reshape(1,-1))).reshape(-1,1))),'; Actual Value: ',Y[0] )\n"
   ]
  },
  {
   "cell_type": "markdown",
   "id": "9b4f275f",
   "metadata": {},
   "source": [
    "## Evaluation of the performance of all model with the test data:"
   ]
  },
  {
   "cell_type": "code",
   "execution_count": 58,
   "id": "2f9637e0",
   "metadata": {},
   "outputs": [
    {
     "name": "stdout",
     "output_type": "stream",
     "text": [
      "Actual Value and Predictions from different Machine Learning Models:\n",
      "original : 1200000\n",
      "MLR : 251246\n",
      "SVR : 121756\n",
      "RF : 933385\n",
      "DT : 1200000\n"
     ]
    }
   ],
   "source": [
    "n=1000\n",
    "sp=10\n",
    "print('Actual Value and Predictions from different Machine Learning Models:')\n",
    "print('original :',Y[n])\n",
    "print('MLR :',int(Linear_regressor.predict(X[n].reshape(1,-1))))\n",
    "print('SVR :',int(sc2.inverse_transform(SVM_regressor.predict(sc.transform(X[n].reshape(1,-1))).reshape(1,-1))))\n",
    "print('RF :',int(Random_Forest_regressor.predict(X[n].reshape(1,-1))))\n",
    "print('DT :',int(Decision_Tree_regressor.predict(X[n].reshape(1,-1))))"
   ]
  },
  {
   "cell_type": "code",
   "execution_count": 59,
   "id": "0ada795f",
   "metadata": {},
   "outputs": [
    {
     "data": {
      "image/png": "[encoded data removed]",
      "text/plain": [
       "<Figure size 936x936 with 1 Axes>"
      ]
     },
     "metadata": {
      "needs_background": "light"
     },
     "output_type": "display_data"
    },
    {
     "name": "stdout",
     "output_type": "stream",
     "text": [
      "R2 score of RF model ==>  0.8580433595890536\n",
      "Mean absolute percentage of RF modelv 0.3804572189811044\n",
      "R2 score of MLR model ==>  0.44033889084450173\n",
      "Mean absolute percentage of MLR model ==>  1.518289638433213\n",
      "R2 score of DT model ==>  0.7765434076884226\n",
      "Mean absolute percentage of DT model ==>  0.4701916206035228\n",
      "R2 score of SVR model ==>  0.6348951578776937\n",
      "Mean absolute percentage of SVR model ==>  0.5022852729951329\n"
     ]
    }
   ],
   "source": [
    "from sklearn.metrics import r2_score,mean_absolute_percentage_error\n",
    "y_pre_random=[]\n",
    "y_pre_SVR=[]\n",
    "y_pre_DT=[]\n",
    "y_pre_MLR=[]\n",
    "for i in range(0,n,sp):\n",
    "    y_pre_random.append(int(Random_Forest_regressor.predict(X_test[i].reshape(1,-1))))\n",
    "    y_pre_MLR.append(int(Linear_regressor.predict(X_test[i].reshape(1,-1))))\n",
    "    y_pre_DT.append(int(Decision_Tree_regressor.predict(X_test[i].reshape(1,-1))))\n",
    "    y_pre_SVR.append(int(sc2.inverse_transform(SVM_regressor.predict(sc.transform(X_test[i].reshape(1,-1))).reshape(-1,1))))\n",
    "#Ploting Data\n",
    "plt.figure(figsize=(13,13))\n",
    "plt.plot(range(100),Y_test[0:n:sp])\n",
    "plt.plot(range(100),y_pre_MLR)\n",
    "plt.plot(range(100),y_pre_random)\n",
    "plt.plot(range(100),y_pre_DT)\n",
    "plt.plot(range(100),y_pre_SVR)\n",
    "#plt.rcParams[\"font.size\"] = \"2\"\n",
    "plt.legend(['Original','MLR','RF','DT','SVR'])\n",
    "plt.ylabel('Rent in Rupees')\n",
    "plt.xlabel('Observations')\n",
    "plt.tick_params(bottom = False,labelbottom = False)\n",
    "\n",
    "plt.show()\n",
    "\n",
    "print('R2 score of RF model ==> ',r2_score(Y_test[0:n:sp],y_pre_random))\n",
    "print('Mean absolute percentage of RF modelv',mean_absolute_percentage_error(Y_test[0:n:sp],y_pre_random))\n",
    "\n",
    "print('R2 score of MLR model ==> ',r2_score(Y_test[0:n:sp],y_pre_MLR))\n",
    "print('Mean absolute percentage of MLR model ==> ',mean_absolute_percentage_error(Y_test[0:n:sp],y_pre_MLR))\n",
    "\n",
    "print('R2 score of DT model ==> ',r2_score(Y_test[0:n:sp],y_pre_DT))\n",
    "print('Mean absolute percentage of DT model ==> ',mean_absolute_percentage_error(Y_test[0:n:sp],y_pre_DT))\n",
    "\n",
    "print('R2 score of SVR model ==> ',r2_score(Y_test[0:n:sp],y_pre_SVR))\n",
    "print('Mean absolute percentage of SVR model ==> ',mean_absolute_percentage_error(Y_test[0:n:sp],y_pre_SVR))\n",
    "\n"
   ]
  },
  {
   "cell_type": "code",
   "execution_count": null,
   "id": "90403ab5",
   "metadata": {},
   "outputs": [],
   "source": []
  },
  {
   "cell_type": "markdown",
   "id": "4bbb77af",
   "metadata": {},
   "source": [
    "## Save Model "
   ]
  },
  {
   "cell_type": "code",
   "execution_count": 26,
   "id": "42b2fa38",
   "metadata": {},
   "outputs": [],
   "source": [
    "import pickle"
   ]
  },
  {
   "cell_type": "code",
   "execution_count": 26,
   "id": "ccd3a01e",
   "metadata": {},
   "outputs": [],
   "source": [
    "pickle.dump(Random_Forest_regressor, open('../Models/model.pkl','wb'))"
   ]
  },
  {
   "cell_type": "code",
   "execution_count": 27,
   "id": "dce3f0ac",
   "metadata": {},
   "outputs": [
    {
     "data": {
      "text/plain": [
       "array([   0,    0,    1,    0,    1,    0,    1,    0,    0,    0,    0,\n",
       "          0,    0,    0,    1,    0,    2,    2, 1100,    2], dtype=int64)"
      ]
     },
     "execution_count": 27,
     "metadata": {},
     "output_type": "execute_result"
    }
   ],
   "source": [
    "X[0]"
   ]
  },
  {
   "cell_type": "code",
   "execution_count": 30,
   "id": "3352ab73",
   "metadata": {
    "scrolled": true
   },
   "outputs": [
    {
     "data": {
      "text/plain": [
       "array([[  0,   0,   1,   0,   1,   0,   0,   0,   0,   1,   0,   0,   0,\n",
       "          0,   1,   1,   2,   2, 600,   1]], dtype=int64)"
      ]
     },
     "execution_count": 30,
     "metadata": {},
     "output_type": "execute_result"
    }
   ],
   "source": [
    "X_test[0].reshape(1,-1)"
   ]
  },
  {
   "cell_type": "code",
   "execution_count": 27,
   "id": "f42c6bfe",
   "metadata": {},
   "outputs": [],
   "source": [
    "with open('rent_model.pickle','wb')as f:\n",
    "    pickle.dump(Random_Forest_regressor,f)"
   ]
  },
  {
   "cell_type": "code",
   "execution_count": 28,
   "id": "c1c8327f",
   "metadata": {},
   "outputs": [],
   "source": [
    "import json"
   ]
  },
  {
   "cell_type": "code",
   "execution_count": 31,
   "id": "74cf970a",
   "metadata": {},
   "outputs": [],
   "source": [
    "columns={\n",
    "    'data_columns' : [col.lower() for col in dataset.columns[:-1]]\n",
    "}\n",
    "\n",
    "with open(\"columns.json\",'w') as f:\n",
    "    f.write(json.dumps(columns))"
   ]
  },
  {
   "cell_type": "code",
   "execution_count": null,
   "id": "b3a3ab15",
   "metadata": {},
   "outputs": [],
   "source": []
  }
 ],
 "metadata": {
  "kernelspec": {
   "display_name": "Python 3 (ipykernel)",
   "language": "python",
   "name": "python3"
  },
  "language_info": {
   "codemirror_mode": {
    "name": "ipython",
    "version": 3
   },
   "file_extension": ".py",
   "mimetype": "text/x-python",
   "name": "python",
   "nbconvert_exporter": "python",
   "pygments_lexer": "ipython3",
   "version": "3.9.7"
  }
 },
 "nbformat": 4,
 "nbformat_minor": 5
}
